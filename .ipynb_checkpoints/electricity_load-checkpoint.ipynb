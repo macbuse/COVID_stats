{
 "cells": [
  {
   "cell_type": "code",
   "execution_count": 1,
   "metadata": {},
   "outputs": [],
   "source": [
    "import os\n",
    "import numpy as np\n",
    "import matplotlib.pyplot as plt"
   ]
  },
  {
   "cell_type": "code",
   "execution_count": 3,
   "metadata": {},
   "outputs": [],
   "source": [
    "import pandas as pd"
   ]
  },
  {
   "cell_type": "code",
   "execution_count": 5,
   "metadata": {},
   "outputs": [],
   "source": [
    "df = pd.read_csv('../fr.csv')"
   ]
  },
  {
   "cell_type": "code",
   "execution_count": 9,
   "metadata": {},
   "outputs": [
    {
     "data": {
      "text/plain": [
       "[<matplotlib.lines.Line2D at 0x7a869616ce80>]"
      ]
     },
     "execution_count": 9,
     "metadata": {},
     "output_type": "execute_result"
    },
    {
     "data": {
      "image/png": "[encoded data removed]",
      "text/plain": [
       "<Figure size 432x288 with 1 Axes>"
      ]
     },
     "metadata": {
      "needs_background": "light"
     },
     "output_type": "display_data"
    }
   ],
   "source": [
    "plt.plot(df['load'])"
   ]
  },
  {
   "cell_type": "code",
   "execution_count": 17,
   "metadata": {},
   "outputs": [
    {
     "data": {
      "text/plain": [
       "2036.25"
      ]
     },
     "execution_count": 17,
     "metadata": {},
     "output_type": "execute_result"
    }
   ],
   "source": [
    "len(df['start'])/24"
   ]
  },
  {
   "cell_type": "code",
   "execution_count": 29,
   "metadata": {},
   "outputs": [],
   "source": [
    "tt = np.array([ int(x.split()[1][:2]) for x in df.iloc[:,0]])"
   ]
  },
  {
   "cell_type": "code",
   "execution_count": 33,
   "metadata": {},
   "outputs": [],
   "source": [
    "diff = tt[1:] - tt[:-1] "
   ]
  },
  {
   "cell_type": "code",
   "execution_count": 56,
   "metadata": {},
   "outputs": [
    {
     "data": {
      "text/plain": [
       "23"
      ]
     },
     "execution_count": 56,
     "metadata": {},
     "output_type": "execute_result"
    }
   ],
   "source": [
    "dd = np.where((diff > 1) ) [0]\n",
    "\n",
    "(sum(diff[ dd ] - 1) + len(diff)) % 24"
   ]
  },
  {
   "cell_type": "code",
   "execution_count": 60,
   "metadata": {},
   "outputs": [
    {
     "data": {
      "text/plain": [
       "array([2, 2, 3, 2, 3, 3, 2, 2, 2, 2, 6, 4, 3, 2, 4, 2, 3, 2, 2, 7, 4, 2])"
      ]
     },
     "execution_count": 60,
     "metadata": {},
     "output_type": "execute_result"
    }
   ],
   "source": [
    "diff[dd]"
   ]
  },
  {
   "cell_type": "code",
   "execution_count": 48,
   "metadata": {},
   "outputs": [
    {
     "data": {
      "text/plain": [
       "array([ 3158,  9479, 13879, 15053, 19637, 24136, 25212, 28300, 29044,\n",
       "       30194, 31633, 32894, 32895, 33161, 34594, 37193, 37523, 39560,\n",
       "       43337, 44567, 45599, 47888])"
      ]
     },
     "execution_count": 48,
     "metadata": {},
     "output_type": "execute_result"
    }
   ],
   "source": [
    "dd"
   ]
  },
  {
   "cell_type": "code",
   "execution_count": 58,
   "metadata": {},
   "outputs": [
    {
     "data": {
      "text/html": [
       "<div>\n",
       "<style scoped>\n",
       "    .dataframe tbody tr th:only-of-type {\n",
       "        vertical-align: middle;\n",
       "    }\n",
       "\n",
       "    .dataframe tbody tr th {\n",
       "        vertical-align: top;\n",
       "    }\n",
       "\n",
       "    .dataframe thead th {\n",
       "        text-align: right;\n",
       "    }\n",
       "</style>\n",
       "<table border=\"1\" class=\"dataframe\">\n",
       "  <thead>\n",
       "    <tr style=\"text-align: right;\">\n",
       "      <th></th>\n",
       "      <th>start</th>\n",
       "      <th>end</th>\n",
       "      <th>load</th>\n",
       "    </tr>\n",
       "  </thead>\n",
       "  <tbody>\n",
       "    <tr>\n",
       "      <th>3158</th>\n",
       "      <td>2015-05-12 14:00:00+00:00</td>\n",
       "      <td>2015-05-12 15:00:00+00:00</td>\n",
       "      <td>49123.0</td>\n",
       "    </tr>\n",
       "    <tr>\n",
       "      <th>9479</th>\n",
       "      <td>2016-01-31 00:00:00+00:00</td>\n",
       "      <td>2016-01-31 01:00:00+00:00</td>\n",
       "      <td>59967.0</td>\n",
       "    </tr>\n",
       "    <tr>\n",
       "      <th>13879</th>\n",
       "      <td>2016-08-01 09:00:00+00:00</td>\n",
       "      <td>2016-08-01 10:00:00+00:00</td>\n",
       "      <td>47633.0</td>\n",
       "    </tr>\n",
       "    <tr>\n",
       "      <th>15053</th>\n",
       "      <td>2016-09-19 09:00:00+00:00</td>\n",
       "      <td>2016-09-19 10:00:00+00:00</td>\n",
       "      <td>52875.0</td>\n",
       "    </tr>\n",
       "    <tr>\n",
       "      <th>19637</th>\n",
       "      <td>2017-03-30 01:00:00+00:00</td>\n",
       "      <td>2017-03-30 02:00:00+00:00</td>\n",
       "      <td>43269.0</td>\n",
       "    </tr>\n",
       "    <tr>\n",
       "      <th>24136</th>\n",
       "      <td>2017-10-03 14:00:00+00:00</td>\n",
       "      <td>2017-10-03 15:00:00+00:00</td>\n",
       "      <td>50175.0</td>\n",
       "    </tr>\n",
       "    <tr>\n",
       "      <th>25212</th>\n",
       "      <td>2017-11-17 13:00:00+00:00</td>\n",
       "      <td>2017-11-17 14:00:00+00:00</td>\n",
       "      <td>66938.0</td>\n",
       "    </tr>\n",
       "    <tr>\n",
       "      <th>28300</th>\n",
       "      <td>2018-03-26 06:00:00+00:00</td>\n",
       "      <td>2018-03-26 07:00:00+00:00</td>\n",
       "      <td>68633.0</td>\n",
       "    </tr>\n",
       "    <tr>\n",
       "      <th>29044</th>\n",
       "      <td>2018-04-26 07:00:00+00:00</td>\n",
       "      <td>2018-04-26 08:00:00+00:00</td>\n",
       "      <td>52623.0</td>\n",
       "    </tr>\n",
       "    <tr>\n",
       "      <th>30194</th>\n",
       "      <td>2018-06-13 06:00:00+00:00</td>\n",
       "      <td>2018-06-13 07:00:00+00:00</td>\n",
       "      <td>45410.0</td>\n",
       "    </tr>\n",
       "    <tr>\n",
       "      <th>31633</th>\n",
       "      <td>2018-08-12 06:00:00+00:00</td>\n",
       "      <td>2018-08-12 07:00:00+00:00</td>\n",
       "      <td>30863.0</td>\n",
       "    </tr>\n",
       "    <tr>\n",
       "      <th>32894</th>\n",
       "      <td>2018-10-04 00:00:00+00:00</td>\n",
       "      <td>2018-10-04 01:00:00+00:00</td>\n",
       "      <td>43715.0</td>\n",
       "    </tr>\n",
       "    <tr>\n",
       "      <th>32895</th>\n",
       "      <td>2018-10-04 04:00:00+00:00</td>\n",
       "      <td>2018-10-04 05:00:00+00:00</td>\n",
       "      <td>43286.0</td>\n",
       "    </tr>\n",
       "    <tr>\n",
       "      <th>33161</th>\n",
       "      <td>2018-10-15 08:00:00+00:00</td>\n",
       "      <td>2018-10-15 09:00:00+00:00</td>\n",
       "      <td>51336.0</td>\n",
       "    </tr>\n",
       "    <tr>\n",
       "      <th>34594</th>\n",
       "      <td>2018-12-14 03:00:00+00:00</td>\n",
       "      <td>2018-12-14 04:00:00+00:00</td>\n",
       "      <td>64134.0</td>\n",
       "    </tr>\n",
       "    <tr>\n",
       "      <th>37193</th>\n",
       "      <td>2019-04-01 13:00:00+00:00</td>\n",
       "      <td>2019-04-01 14:00:00+00:00</td>\n",
       "      <td>52105.0</td>\n",
       "    </tr>\n",
       "    <tr>\n",
       "      <th>37523</th>\n",
       "      <td>2019-04-15 08:00:00+00:00</td>\n",
       "      <td>2019-04-15 09:00:00+00:00</td>\n",
       "      <td>63819.0</td>\n",
       "    </tr>\n",
       "    <tr>\n",
       "      <th>39560</th>\n",
       "      <td>2019-07-09 07:00:00+00:00</td>\n",
       "      <td>2019-07-09 08:00:00+00:00</td>\n",
       "      <td>48849.0</td>\n",
       "    </tr>\n",
       "    <tr>\n",
       "      <th>43337</th>\n",
       "      <td>2019-12-14 00:00:00+00:00</td>\n",
       "      <td>2019-12-14 01:00:00+00:00</td>\n",
       "      <td>62134.0</td>\n",
       "    </tr>\n",
       "    <tr>\n",
       "      <th>44567</th>\n",
       "      <td>2020-02-03 07:00:00+00:00</td>\n",
       "      <td>2020-02-03 08:00:00+00:00</td>\n",
       "      <td>61108.0</td>\n",
       "    </tr>\n",
       "    <tr>\n",
       "      <th>45599</th>\n",
       "      <td>2020-03-17 13:00:00+00:00</td>\n",
       "      <td>2020-03-17 14:00:00+00:00</td>\n",
       "      <td>53019.0</td>\n",
       "    </tr>\n",
       "    <tr>\n",
       "      <th>47888</th>\n",
       "      <td>2020-06-21 01:00:00+00:00</td>\n",
       "      <td>2020-06-21 02:00:00+00:00</td>\n",
       "      <td>32469.0</td>\n",
       "    </tr>\n",
       "  </tbody>\n",
       "</table>\n",
       "</div>"
      ],
      "text/plain": [
       "                           start                        end     load\n",
       "3158   2015-05-12 14:00:00+00:00  2015-05-12 15:00:00+00:00  49123.0\n",
       "9479   2016-01-31 00:00:00+00:00  2016-01-31 01:00:00+00:00  59967.0\n",
       "13879  2016-08-01 09:00:00+00:00  2016-08-01 10:00:00+00:00  47633.0\n",
       "15053  2016-09-19 09:00:00+00:00  2016-09-19 10:00:00+00:00  52875.0\n",
       "19637  2017-03-30 01:00:00+00:00  2017-03-30 02:00:00+00:00  43269.0\n",
       "24136  2017-10-03 14:00:00+00:00  2017-10-03 15:00:00+00:00  50175.0\n",
       "25212  2017-11-17 13:00:00+00:00  2017-11-17 14:00:00+00:00  66938.0\n",
       "28300  2018-03-26 06:00:00+00:00  2018-03-26 07:00:00+00:00  68633.0\n",
       "29044  2018-04-26 07:00:00+00:00  2018-04-26 08:00:00+00:00  52623.0\n",
       "30194  2018-06-13 06:00:00+00:00  2018-06-13 07:00:00+00:00  45410.0\n",
       "31633  2018-08-12 06:00:00+00:00  2018-08-12 07:00:00+00:00  30863.0\n",
       "32894  2018-10-04 00:00:00+00:00  2018-10-04 01:00:00+00:00  43715.0\n",
       "32895  2018-10-04 04:00:00+00:00  2018-10-04 05:00:00+00:00  43286.0\n",
       "33161  2018-10-15 08:00:00+00:00  2018-10-15 09:00:00+00:00  51336.0\n",
       "34594  2018-12-14 03:00:00+00:00  2018-12-14 04:00:00+00:00  64134.0\n",
       "37193  2019-04-01 13:00:00+00:00  2019-04-01 14:00:00+00:00  52105.0\n",
       "37523  2019-04-15 08:00:00+00:00  2019-04-15 09:00:00+00:00  63819.0\n",
       "39560  2019-07-09 07:00:00+00:00  2019-07-09 08:00:00+00:00  48849.0\n",
       "43337  2019-12-14 00:00:00+00:00  2019-12-14 01:00:00+00:00  62134.0\n",
       "44567  2020-02-03 07:00:00+00:00  2020-02-03 08:00:00+00:00  61108.0\n",
       "45599  2020-03-17 13:00:00+00:00  2020-03-17 14:00:00+00:00  53019.0\n",
       "47888  2020-06-21 01:00:00+00:00  2020-06-21 02:00:00+00:00  32469.0"
      ]
     },
     "execution_count": 58,
     "metadata": {},
     "output_type": "execute_result"
    }
   ],
   "source": [
    "df.iloc[dd ]"
   ]
  },
  {
   "cell_type": "code",
   "execution_count": 57,
   "metadata": {},
   "outputs": [
    {
     "data": {
      "text/html": [
       "<div>\n",
       "<style scoped>\n",
       "    .dataframe tbody tr th:only-of-type {\n",
       "        vertical-align: middle;\n",
       "    }\n",
       "\n",
       "    .dataframe tbody tr th {\n",
       "        vertical-align: top;\n",
       "    }\n",
       "\n",
       "    .dataframe thead th {\n",
       "        text-align: right;\n",
       "    }\n",
       "</style>\n",
       "<table border=\"1\" class=\"dataframe\">\n",
       "  <thead>\n",
       "    <tr style=\"text-align: right;\">\n",
       "      <th></th>\n",
       "      <th>start</th>\n",
       "      <th>end</th>\n",
       "      <th>load</th>\n",
       "    </tr>\n",
       "  </thead>\n",
       "  <tbody>\n",
       "    <tr>\n",
       "      <th>3159</th>\n",
       "      <td>2015-05-12 16:00:00+00:00</td>\n",
       "      <td>2015-05-12 17:00:00+00:00</td>\n",
       "      <td>48537.0</td>\n",
       "    </tr>\n",
       "    <tr>\n",
       "      <th>9480</th>\n",
       "      <td>2016-01-31 02:00:00+00:00</td>\n",
       "      <td>2016-01-31 03:00:00+00:00</td>\n",
       "      <td>53094.0</td>\n",
       "    </tr>\n",
       "    <tr>\n",
       "      <th>13880</th>\n",
       "      <td>2016-08-01 12:00:00+00:00</td>\n",
       "      <td>2016-08-01 13:00:00+00:00</td>\n",
       "      <td>48545.0</td>\n",
       "    </tr>\n",
       "    <tr>\n",
       "      <th>15054</th>\n",
       "      <td>2016-09-19 11:00:00+00:00</td>\n",
       "      <td>2016-09-19 12:00:00+00:00</td>\n",
       "      <td>52271.0</td>\n",
       "    </tr>\n",
       "    <tr>\n",
       "      <th>19638</th>\n",
       "      <td>2017-03-30 04:00:00+00:00</td>\n",
       "      <td>2017-03-30 05:00:00+00:00</td>\n",
       "      <td>50829.0</td>\n",
       "    </tr>\n",
       "    <tr>\n",
       "      <th>24137</th>\n",
       "      <td>2017-10-03 17:00:00+00:00</td>\n",
       "      <td>2017-10-03 18:00:00+00:00</td>\n",
       "      <td>54356.0</td>\n",
       "    </tr>\n",
       "    <tr>\n",
       "      <th>25213</th>\n",
       "      <td>2017-11-17 15:00:00+00:00</td>\n",
       "      <td>2017-11-17 16:00:00+00:00</td>\n",
       "      <td>62507.0</td>\n",
       "    </tr>\n",
       "    <tr>\n",
       "      <th>28301</th>\n",
       "      <td>2018-03-26 08:00:00+00:00</td>\n",
       "      <td>2018-03-26 09:00:00+00:00</td>\n",
       "      <td>69608.0</td>\n",
       "    </tr>\n",
       "    <tr>\n",
       "      <th>29045</th>\n",
       "      <td>2018-04-26 09:00:00+00:00</td>\n",
       "      <td>2018-04-26 10:00:00+00:00</td>\n",
       "      <td>53618.0</td>\n",
       "    </tr>\n",
       "    <tr>\n",
       "      <th>30195</th>\n",
       "      <td>2018-06-13 08:00:00+00:00</td>\n",
       "      <td>2018-06-13 09:00:00+00:00</td>\n",
       "      <td>51250.0</td>\n",
       "    </tr>\n",
       "    <tr>\n",
       "      <th>31634</th>\n",
       "      <td>2018-08-12 12:00:00+00:00</td>\n",
       "      <td>2018-08-12 13:00:00+00:00</td>\n",
       "      <td>38161.0</td>\n",
       "    </tr>\n",
       "    <tr>\n",
       "      <th>32895</th>\n",
       "      <td>2018-10-04 04:00:00+00:00</td>\n",
       "      <td>2018-10-04 05:00:00+00:00</td>\n",
       "      <td>43286.0</td>\n",
       "    </tr>\n",
       "    <tr>\n",
       "      <th>32896</th>\n",
       "      <td>2018-10-04 07:00:00+00:00</td>\n",
       "      <td>2018-10-04 08:00:00+00:00</td>\n",
       "      <td>54475.0</td>\n",
       "    </tr>\n",
       "    <tr>\n",
       "      <th>33162</th>\n",
       "      <td>2018-10-15 10:00:00+00:00</td>\n",
       "      <td>2018-10-15 11:00:00+00:00</td>\n",
       "      <td>53119.0</td>\n",
       "    </tr>\n",
       "    <tr>\n",
       "      <th>34595</th>\n",
       "      <td>2018-12-14 07:00:00+00:00</td>\n",
       "      <td>2018-12-14 08:00:00+00:00</td>\n",
       "      <td>82380.0</td>\n",
       "    </tr>\n",
       "    <tr>\n",
       "      <th>37194</th>\n",
       "      <td>2019-04-01 15:00:00+00:00</td>\n",
       "      <td>2019-04-01 16:00:00+00:00</td>\n",
       "      <td>49688.0</td>\n",
       "    </tr>\n",
       "    <tr>\n",
       "      <th>37524</th>\n",
       "      <td>2019-04-15 11:00:00+00:00</td>\n",
       "      <td>2019-04-15 12:00:00+00:00</td>\n",
       "      <td>60564.0</td>\n",
       "    </tr>\n",
       "    <tr>\n",
       "      <th>39561</th>\n",
       "      <td>2019-07-09 09:00:00+00:00</td>\n",
       "      <td>2019-07-09 10:00:00+00:00</td>\n",
       "      <td>52916.0</td>\n",
       "    </tr>\n",
       "    <tr>\n",
       "      <th>43338</th>\n",
       "      <td>2019-12-14 02:00:00+00:00</td>\n",
       "      <td>2019-12-14 03:00:00+00:00</td>\n",
       "      <td>54190.0</td>\n",
       "    </tr>\n",
       "    <tr>\n",
       "      <th>44568</th>\n",
       "      <td>2020-02-03 14:00:00+00:00</td>\n",
       "      <td>2020-02-03 15:00:00+00:00</td>\n",
       "      <td>60343.0</td>\n",
       "    </tr>\n",
       "    <tr>\n",
       "      <th>45600</th>\n",
       "      <td>2020-03-17 17:00:00+00:00</td>\n",
       "      <td>2020-03-17 18:00:00+00:00</td>\n",
       "      <td>52119.0</td>\n",
       "    </tr>\n",
       "    <tr>\n",
       "      <th>47889</th>\n",
       "      <td>2020-06-21 03:00:00+00:00</td>\n",
       "      <td>2020-06-21 04:00:00+00:00</td>\n",
       "      <td>30212.0</td>\n",
       "    </tr>\n",
       "  </tbody>\n",
       "</table>\n",
       "</div>"
      ],
      "text/plain": [
       "                           start                        end     load\n",
       "3159   2015-05-12 16:00:00+00:00  2015-05-12 17:00:00+00:00  48537.0\n",
       "9480   2016-01-31 02:00:00+00:00  2016-01-31 03:00:00+00:00  53094.0\n",
       "13880  2016-08-01 12:00:00+00:00  2016-08-01 13:00:00+00:00  48545.0\n",
       "15054  2016-09-19 11:00:00+00:00  2016-09-19 12:00:00+00:00  52271.0\n",
       "19638  2017-03-30 04:00:00+00:00  2017-03-30 05:00:00+00:00  50829.0\n",
       "24137  2017-10-03 17:00:00+00:00  2017-10-03 18:00:00+00:00  54356.0\n",
       "25213  2017-11-17 15:00:00+00:00  2017-11-17 16:00:00+00:00  62507.0\n",
       "28301  2018-03-26 08:00:00+00:00  2018-03-26 09:00:00+00:00  69608.0\n",
       "29045  2018-04-26 09:00:00+00:00  2018-04-26 10:00:00+00:00  53618.0\n",
       "30195  2018-06-13 08:00:00+00:00  2018-06-13 09:00:00+00:00  51250.0\n",
       "31634  2018-08-12 12:00:00+00:00  2018-08-12 13:00:00+00:00  38161.0\n",
       "32895  2018-10-04 04:00:00+00:00  2018-10-04 05:00:00+00:00  43286.0\n",
       "32896  2018-10-04 07:00:00+00:00  2018-10-04 08:00:00+00:00  54475.0\n",
       "33162  2018-10-15 10:00:00+00:00  2018-10-15 11:00:00+00:00  53119.0\n",
       "34595  2018-12-14 07:00:00+00:00  2018-12-14 08:00:00+00:00  82380.0\n",
       "37194  2019-04-01 15:00:00+00:00  2019-04-01 16:00:00+00:00  49688.0\n",
       "37524  2019-04-15 11:00:00+00:00  2019-04-15 12:00:00+00:00  60564.0\n",
       "39561  2019-07-09 09:00:00+00:00  2019-07-09 10:00:00+00:00  52916.0\n",
       "43338  2019-12-14 02:00:00+00:00  2019-12-14 03:00:00+00:00  54190.0\n",
       "44568  2020-02-03 14:00:00+00:00  2020-02-03 15:00:00+00:00  60343.0\n",
       "45600  2020-03-17 17:00:00+00:00  2020-03-17 18:00:00+00:00  52119.0\n",
       "47889  2020-06-21 03:00:00+00:00  2020-06-21 04:00:00+00:00  30212.0"
      ]
     },
     "execution_count": 57,
     "metadata": {},
     "output_type": "execute_result"
    }
   ],
   "source": [
    "df.iloc[dd + 1]"
   ]
  },
  {
   "cell_type": "code",
   "execution_count": 43,
   "metadata": {},
   "outputs": [
    {
     "data": {
      "text/plain": [
       "22"
      ]
     },
     "execution_count": 43,
     "metadata": {},
     "output_type": "execute_result"
    }
   ],
   "source": [
    "len(dd)"
   ]
  },
  {
   "cell_type": "code",
   "execution_count": 44,
   "metadata": {},
   "outputs": [
    {
     "data": {
      "text/plain": [
       "array([1, 1, 1, ..., 1, 1, 1])"
      ]
     },
     "execution_count": 44,
     "metadata": {},
     "output_type": "execute_result"
    }
   ],
   "source": [
    "diff"
   ]
  },
  {
   "cell_type": "code",
   "execution_count": 65,
   "metadata": {},
   "outputs": [],
   "source": [
    "import random\n",
    "\n",
    "xx = np.array([x for x in range(100) if random.random() > .2])"
   ]
  },
  {
   "cell_type": "code",
   "execution_count": 62,
   "metadata": {},
   "outputs": [
    {
     "data": {
      "text/plain": [
       "0.41663036564747424"
      ]
     },
     "execution_count": 62,
     "metadata": {},
     "output_type": "execute_result"
    }
   ],
   "source": [
    "random.random()"
   ]
  },
  {
   "cell_type": "code",
   "execution_count": 72,
   "metadata": {},
   "outputs": [],
   "source": [
    "diff = np.diff(xx, 1)\n",
    "ends = np.where(diff > 1)[0]"
   ]
  },
  {
   "cell_type": "code",
   "execution_count": 70,
   "metadata": {},
   "outputs": [
    {
     "data": {
      "text/plain": [
       "array([ 0,  1,  2,  3,  4,  5,  6,  7,  9, 10, 11, 12, 13, 15, 17, 18, 19,\n",
       "       20, 21, 22, 24, 25, 26, 28, 29, 31, 32, 33, 35, 36, 37, 38, 39, 40,\n",
       "       41, 43, 44, 46, 47, 50, 52, 53, 56, 57, 58, 59, 61, 62, 64, 65, 66,\n",
       "       67, 68, 70, 71, 72, 73, 75, 76, 77, 78, 79, 82, 83, 84, 85, 86, 87,\n",
       "       88, 89, 90, 91, 92, 93, 94, 95, 96, 97, 98, 99])"
      ]
     },
     "execution_count": 70,
     "metadata": {},
     "output_type": "execute_result"
    }
   ],
   "source": [
    "xx"
   ]
  },
  {
   "cell_type": "code",
   "execution_count": 75,
   "metadata": {},
   "outputs": [
    {
     "data": {
      "text/plain": [
       "array([ 8, 13, 14, 20, 23, 25, 28, 35, 37, 39, 40, 42, 46, 48, 53, 57, 62])"
      ]
     },
     "execution_count": 75,
     "metadata": {},
     "output_type": "execute_result"
    }
   ],
   "source": [
    "start = ends + 1\n",
    "start\n",
    "\n"
   ]
  },
  {
   "cell_type": "code",
   "execution_count": null,
   "metadata": {},
   "outputs": [],
   "source": []
  },
  {
   "cell_type": "raw",
   "metadata": {},
   "source": [
    "ff"
   ]
  },
  {
   "cell_type": "raw",
   "metadata": {},
   "source": []
  }
 ],
 "metadata": {
  "kernelspec": {
   "display_name": "Python 3",
   "language": "python",
   "name": "python3"
  },
  "language_info": {
   "codemirror_mode": {
    "name": "ipython",
    "version": 3
   },
   "file_extension": ".py",
   "mimetype": "text/x-python",
   "name": "python",
   "nbconvert_exporter": "python",
   "pygments_lexer": "ipython3",
   "version": "3.6.5"
  }
 },
 "nbformat": 4,
 "nbformat_minor": 2
}
